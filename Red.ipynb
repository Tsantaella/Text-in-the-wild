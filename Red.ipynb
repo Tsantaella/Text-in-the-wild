{
 "cells": [
  {
   "cell_type": "code",
   "execution_count": 7,
   "metadata": {},
   "outputs": [],
   "source": [
    "import tensorflow as tf\n",
    "from tensorflow import keras\n",
    "from tensorflow.keras.datasets import mnist\n",
    "from tensorflow.keras.optimizers import SGD\n",
    "\n",
    "from matplotlib import pyplot as plt\n",
    "from sklearn.model_selection import train_test_split\n",
    "from sklearn.preprocessing import LabelBinarizer\n",
    "\n",
    "import h5py\n",
    "\n",
    "import scipy.io\n",
    "import cv2\n",
    "\n",
    "import numpy as np\n",
    "import copy\n",
    "import pandas as pd\n",
    "import os"
   ]
  },
  {
   "cell_type": "code",
   "execution_count": 8,
   "metadata": {},
   "outputs": [],
   "source": [
    "pathImgs = [\"D:/Datasets/CharALL/English/Img/GoodImg/Bmp/\",\n",
    "            \"D:/Datasets/CharALL/English/Fnt/\",\n",
    "            \"D:/Datasets/CharALL/English/Hnd/Img/\"]"
   ]
  },
  {
   "cell_type": "markdown",
   "metadata": {},
   "source": [
    "## Cargado de los datos"
   ]
  },
  {
   "cell_type": "code",
   "execution_count": 9,
   "metadata": {},
   "outputs": [],
   "source": [
    "data = []\n",
    "labels = []\n",
    "total_labels = np.arange(0,62)"
   ]
  },
  {
   "cell_type": "code",
   "execution_count": null,
   "metadata": {},
   "outputs": [],
   "source": [
    "img_dirs = [x+'/' for x in os.listdir(pathImgs[0])]\n",
    "label_cont = 0\n",
    "\n",
    "for d in img_dirs:\n",
    "    imgs = os.listdir(pathImgs[0]+d)\n",
    "    for img in imgs:\n",
    "        data.append(cv2.imread(pathImgs[0]+d+img))\n",
    "        labels.append(total_labels[label_cont])\n",
    "    label_cont += 1"
   ]
  },
  {
   "cell_type": "code",
   "execution_count": null,
   "metadata": {},
   "outputs": [],
   "source": [
    "img_dirs = [x+'/' for x in os.listdir(pathImgs[1])]\n",
    "label_cont = 0\n",
    "\n",
    "for d in img_dirs:\n",
    "    imgs = os.listdir(pathImgs[1]+d)\n",
    "    for img in imgs:\n",
    "        data.append(cv2.imread(pathImgs[1]+d+img))\n",
    "        labels.append(total_labels[label_cont])\n",
    "    label_cont += 1"
   ]
  },
  {
   "cell_type": "code",
   "execution_count": null,
   "metadata": {},
   "outputs": [],
   "source": [
    "img_dirs = [x+'/' for x in os.listdir(pathImgs[2])]\n",
    "label_cont = 0\n",
    "\n",
    "for d in img_dirs:\n",
    "    imgs = os.listdir(pathImgs[2]+d)\n",
    "    for img in imgs:\n",
    "        data.append(cv2.imread(pathImgs[2]+d+img))\n",
    "        labels.append(total_labels[label_cont])\n",
    "    label_cont += 1"
   ]
  },
  {
   "cell_type": "markdown",
   "metadata": {},
   "source": [
    "### Procesado de los datos\n",
    "Hay que reescalar las imagenes porque tienen dimensiones diferentes"
   ]
  },
  {
   "cell_type": "code",
   "execution_count": null,
   "metadata": {},
   "outputs": [],
   "source": [
    "data = [cv2.resize(im, (64,64)) for im in data]\n",
    "data = np.array(data)"
   ]
  },
  {
   "cell_type": "code",
   "execution_count": null,
   "metadata": {},
   "outputs": [],
   "source": [
    "plt.imshow(data[60000])\n",
    "plt.show()\n",
    "print(labels[60000])"
   ]
  },
  {
   "cell_type": "markdown",
   "metadata": {},
   "source": [
    "### Train y test con sklearn"
   ]
  },
  {
   "cell_type": "code",
   "execution_count": 43,
   "metadata": {},
   "outputs": [],
   "source": [
    "x_train, x_test, y_train, y_test = train_test_split(data, labels, test_size=0.2, random_state=42)"
   ]
  },
  {
   "cell_type": "code",
   "execution_count": 44,
   "metadata": {},
   "outputs": [],
   "source": [
    "y_train = np.array(y_train)\n",
    "y_test = np.array(y_test)"
   ]
  },
  {
   "cell_type": "code",
   "execution_count": 45,
   "metadata": {},
   "outputs": [
    {
     "data": {
      "image/png": "[encoded data removed]",
      "text/plain": [
       "<Figure size 432x288 with 1 Axes>"
      ]
     },
     "metadata": {
      "needs_background": "light"
     },
     "output_type": "display_data"
    },
    {
     "data": {
      "text/plain": [
       "(59285, 64, 64, 3)"
      ]
     },
     "execution_count": 45,
     "metadata": {},
     "output_type": "execute_result"
    }
   ],
   "source": [
    "plt.imshow(x_train[5])\n",
    "plt.show()\n",
    "x_train.shape"
   ]
  },
  {
   "cell_type": "code",
   "execution_count": 46,
   "metadata": {},
   "outputs": [],
   "source": [
    "model = keras.Sequential([\n",
    "    keras.layers.Conv2D(128, 3, 3, input_shape=(64,64,3), activation='relu'),\n",
    "    keras.layers.Conv2D(256, 2, 1, activation='relu'),\n",
    "    keras.layers.Conv2D(512, 2, 1, activation='relu'),\n",
    "    keras.layers.MaxPooling2D(pool_size=(2, 2)),\n",
    "    keras.layers.Flatten(),\n",
    "    keras.layers.Dense(1024, activation='relu'),\n",
    "    keras.layers.Dropout(0.5),\n",
    "    keras.layers.Dense(512, activation='relu'), \n",
    "    keras.layers.Dropout(0.5), \n",
    "    keras.layers.Dense(62),\n",
    "    keras.layers.Activation('softmax')\n",
    "])"
   ]
  },
  {
   "cell_type": "code",
   "execution_count": 47,
   "metadata": {},
   "outputs": [],
   "source": [
    "model.compile(optimizer='adam',\n",
    "              loss='sparse_categorical_crossentropy',\n",
    "              metrics=['accuracy'])"
   ]
  },
  {
   "cell_type": "code",
   "execution_count": 48,
   "metadata": {},
   "outputs": [
    {
     "name": "stdout",
     "output_type": "stream",
     "text": [
      "Epoch 1/20\n",
      "1853/1853 [==============================] - 760s 410ms/step - loss: 5.2485 - accuracy: 0.4587\n",
      "Epoch 2/20\n",
      "1853/1853 [==============================] - 716s 387ms/step - loss: 0.8736 - accuracy: 0.7430\n",
      "Epoch 3/20\n",
      "1853/1853 [==============================] - 744s 401ms/step - loss: 0.7081 - accuracy: 0.7777\n",
      "Epoch 4/20\n",
      "1853/1853 [==============================] - 719s 388ms/step - loss: 0.6273 - accuracy: 0.7991\n",
      "Epoch 5/20\n",
      "1853/1853 [==============================] - 684s 369ms/step - loss: 0.5515 - accuracy: 0.8202\n",
      "Epoch 6/20\n",
      "1853/1853 [==============================] - 684s 369ms/step - loss: 0.5033 - accuracy: 0.8330\n",
      "Epoch 7/20\n",
      "1853/1853 [==============================] - 710s 383ms/step - loss: 0.4705 - accuracy: 0.8426\n",
      "Epoch 8/20\n",
      "1853/1853 [==============================] - 707s 381ms/step - loss: 0.4306 - accuracy: 0.8525\n",
      "Epoch 9/20\n",
      "1853/1853 [==============================] - 751s 406ms/step - loss: 0.4171 - accuracy: 0.8563\n",
      "Epoch 10/20\n",
      "1853/1853 [==============================] - 722s 390ms/step - loss: 0.4082 - accuracy: 0.8612\n",
      "Epoch 11/20\n",
      "1853/1853 [==============================] - 719s 388ms/step - loss: 0.3729 - accuracy: 0.8687\n",
      "Epoch 12/20\n",
      "1853/1853 [==============================] - 735s 397ms/step - loss: 0.3735 - accuracy: 0.8690\n",
      "Epoch 13/20\n",
      "1853/1853 [==============================] - 720s 389ms/step - loss: 0.3648 - accuracy: 0.8748\n",
      "Epoch 14/20\n",
      "1853/1853 [==============================] - 744s 401ms/step - loss: 0.3505 - accuracy: 0.8770\n",
      "Epoch 15/20\n",
      "1853/1853 [==============================] - 739s 399ms/step - loss: 0.3364 - accuracy: 0.8832\n",
      "Epoch 16/20\n",
      "1853/1853 [==============================] - 730s 394ms/step - loss: 0.3363 - accuracy: 0.8826\n",
      "Epoch 17/20\n",
      "1853/1853 [==============================] - 738s 398ms/step - loss: 0.3170 - accuracy: 0.8894\n",
      "Epoch 18/20\n",
      "1853/1853 [==============================] - 717s 387ms/step - loss: 0.3142 - accuracy: 0.8894\n",
      "Epoch 19/20\n",
      "1853/1853 [==============================] - 745s 402ms/step - loss: 0.3279 - accuracy: 0.8871\n",
      "Epoch 20/20\n",
      "1853/1853 [==============================] - 742s 400ms/step - loss: 0.3106 - accuracy: 0.8921\n"
     ]
    },
    {
     "data": {
      "text/plain": [
       "<tensorflow.python.keras.callbacks.History at 0x2193a359e48>"
      ]
     },
     "execution_count": 48,
     "metadata": {},
     "output_type": "execute_result"
    }
   ],
   "source": [
    "model.fit(x_train, y_train, epochs=20)"
   ]
  },
  {
   "cell_type": "code",
   "execution_count": 49,
   "metadata": {},
   "outputs": [
    {
     "name": "stdout",
     "output_type": "stream",
     "text": [
      "464/464 - 36s - loss: 0.3864 - accuracy: 0.8703\n",
      "\n",
      "Test accuracy: 0.8702604174613953\n"
     ]
    }
   ],
   "source": [
    "test_loss, test_acc = model.evaluate(x_test,  y_test, verbose=2)\n",
    "\n",
    "print('\\nTest accuracy:', test_acc)"
   ]
  },
  {
   "cell_type": "code",
   "execution_count": 50,
   "metadata": {},
   "outputs": [
    {
     "name": "stdout",
     "output_type": "stream",
     "text": [
      "Model: \"sequential_5\"\n",
      "_________________________________________________________________\n",
      "Layer (type)                 Output Shape              Param #   \n",
      "=================================================================\n",
      "conv2d_15 (Conv2D)           (None, 21, 21, 128)       3584      \n",
      "_________________________________________________________________\n",
      "conv2d_16 (Conv2D)           (None, 20, 20, 256)       131328    \n",
      "_________________________________________________________________\n",
      "conv2d_17 (Conv2D)           (None, 19, 19, 512)       524800    \n",
      "_________________________________________________________________\n",
      "max_pooling2d_5 (MaxPooling2 (None, 9, 9, 512)         0         \n",
      "_________________________________________________________________\n",
      "flatten_5 (Flatten)          (None, 41472)             0         \n",
      "_________________________________________________________________\n",
      "dense_15 (Dense)             (None, 1024)              42468352  \n",
      "_________________________________________________________________\n",
      "dropout_10 (Dropout)         (None, 1024)              0         \n",
      "_________________________________________________________________\n",
      "dense_16 (Dense)             (None, 512)               524800    \n",
      "_________________________________________________________________\n",
      "dropout_11 (Dropout)         (None, 512)               0         \n",
      "_________________________________________________________________\n",
      "dense_17 (Dense)             (None, 62)                31806     \n",
      "_________________________________________________________________\n",
      "activation_5 (Activation)    (None, 62)                0         \n",
      "=================================================================\n",
      "Total params: 43,684,670\n",
      "Trainable params: 43,684,670\n",
      "Non-trainable params: 0\n",
      "_________________________________________________________________\n"
     ]
    }
   ],
   "source": [
    "model.summary()"
   ]
  },
  {
   "cell_type": "code",
   "execution_count": 51,
   "metadata": {},
   "outputs": [
    {
     "name": "stdout",
     "output_type": "stream",
     "text": [
      "INFO:tensorflow:Assets written to: textRecognitionModel_V2\\assets\n"
     ]
    }
   ],
   "source": [
    "model.save(\"textRecognitionModel_V2\")"
   ]
  }
 ],
 "metadata": {
  "kernelspec": {
   "display_name": "Python 3",
   "language": "python",
   "name": "python3"
  },
  "language_info": {
   "codemirror_mode": {
    "name": "ipython",
    "version": 3
   },
   "file_extension": ".py",
   "mimetype": "text/x-python",
   "name": "python",
   "nbconvert_exporter": "python",
   "pygments_lexer": "ipython3",
   "version": "3.7.4"
  }
 },
 "nbformat": 4,
 "nbformat_minor": 2
}
